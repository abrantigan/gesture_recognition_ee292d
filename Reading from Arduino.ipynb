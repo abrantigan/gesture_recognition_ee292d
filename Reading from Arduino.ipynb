{
 "cells": [
  {
   "cell_type": "code",
   "execution_count": 11,
   "metadata": {},
   "outputs": [],
   "source": [
    "import serial # import Serial Library\n",
    "import numpy as np # Import numpy\n",
    "import matplotlib\n",
    "import matplotlib.pyplot as plt #import matplotlib library\n",
    "import time"
   ]
  },
  {
   "cell_type": "code",
   "execution_count": null,
   "metadata": {},
   "outputs": [],
   "source": [
    "arduinoData = serial.Serial('/dev/cu.wchusbserial1410', 9600) #Creating our serial object named arduinoData\n",
    "# keyPressed = '' #Starts with nothing pressed\n",
    "\n",
    "\n",
    "while True: # While loop that loops forever\n",
    "    while (arduinoData.inWaiting()==0): #Wait here until there is data\n",
    "        pass #do nothing\n",
    "    \n",
    "    arduinoString = arduinoData.readline() #read the line of text from the serial port\n",
    "    dataArray = arduinoString.decode().split(',')   #Split it into an array called dataArray\n",
    "\n",
    "    # Write data to an excel file\n"
   ]
  }
 ],
 "metadata": {
  "kernelspec": {
   "display_name": "Python 3",
   "language": "python",
   "name": "python3"
  },
  "language_info": {
   "codemirror_mode": {
    "name": "ipython",
    "version": 3
   },
   "file_extension": ".py",
   "mimetype": "text/x-python",
   "name": "python",
   "nbconvert_exporter": "python",
   "pygments_lexer": "ipython3",
   "version": "3.6.5"
  }
 },
 "nbformat": 4,
 "nbformat_minor": 2
}
