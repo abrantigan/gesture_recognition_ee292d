{
 "cells": [
  {
   "cell_type": "code",
   "execution_count": 107,
   "metadata": {},
   "outputs": [],
   "source": [
    "import numpy as np\n",
    "import csv\n",
    "import os\n",
    "import glob\n",
    "import random"
   ]
  },
  {
   "cell_type": "code",
   "execution_count": 108,
   "metadata": {},
   "outputs": [],
   "source": [
    "######          #add all gestures to gest list!!!!!         #########\n",
    "gest = ['A','B','C','D','E','F','G','H','I','J','K','L','M','N','O','P','Q','R','S','T','U','V','W','X','Y','Z','\\'','-']\n",
    "names=[\"lauren\",\"katherine\",\"annie\",\"hallie\"]"
   ]
  },
  {
   "cell_type": "code",
   "execution_count": 91,
   "metadata": {},
   "outputs": [],
   "source": [
    "#train-dev-test 80-10-10\n",
    "#create 3 txt files\n",
    "path = r'C:\\Users\\kathe\\Documents\\GitHub\\gesture_recognition_ee292d\\small_data'\n",
    "os.chdir(path)\n",
    "\n",
    "train=[]\n",
    "dev=[]\n",
    "test=[]\n",
    "\n",
    "##for each letter\n",
    "for g in range(3):\n",
    "    allFiles=[]\n",
    "    for file in glob.glob(path + gest[g] + '*.csv'):  ###if we have folders, just replace this line with the folder path  \n",
    "        allFiles.append(file)\n",
    "    #for names\n",
    "    for n in range(2):#range(len(names)):\n",
    "        person = [i for i in allFiles if names[n] in i]\n",
    "        random.shuffle(person) #shuffles and stores in lauren\n",
    "        brk1 = round(.8*len(person))\n",
    "        brk2 = brk1 + round(.1*len(person))\n",
    "        \n",
    "        #put 80% of each letter of each person into train folder, and shuffle\n",
    "        train.append(person[0:brk1])\n",
    "\n",
    "        #put 10% of each letter of each person into dev folder, and shuffle\n",
    "        dev.append(person[brk1:brk2])\n",
    "        \n",
    "        #put 10% of each letter of each person into test folder, and shuffle\n",
    "        test.append(person[brk2:len(person)])"
   ]
  },
  {
   "cell_type": "code",
   "execution_count": 103,
   "metadata": {},
   "outputs": [],
   "source": [
    "###flatten lists###\n",
    "tr = [item for sublist in train for item in sublist]\n",
    "d = [item for sublist in dev for item in sublist]\n",
    "ts = [item for sublist in test for item in sublist]"
   ]
  },
  {
   "cell_type": "code",
   "execution_count": 104,
   "metadata": {},
   "outputs": [],
   "source": [
    "with open('train.txt', 'w') as f:\n",
    "    for item in tr:\n",
    "        f.write('%s\\n' % item)\n",
    "with open('dev.txt', 'w') as f:\n",
    "    for item in d:\n",
    "        f.write('%s\\n' % item)\n",
    "with open('test.txt', 'w') as f:\n",
    "    for item in ts:\n",
    "        f.write('%s\\n' % item)"
   ]
  },
  {
   "cell_type": "code",
   "execution_count": null,
   "metadata": {},
   "outputs": [],
   "source": []
  },
  {
   "cell_type": "code",
   "execution_count": null,
   "metadata": {},
   "outputs": [],
   "source": []
  },
  {
   "cell_type": "code",
   "execution_count": null,
   "metadata": {},
   "outputs": [],
   "source": []
  }
 ],
 "metadata": {
  "kernelspec": {
   "display_name": "Python 3",
   "language": "python",
   "name": "python3"
  },
  "language_info": {
   "codemirror_mode": {
    "name": "ipython",
    "version": 3
   },
   "file_extension": ".py",
   "mimetype": "text/x-python",
   "name": "python",
   "nbconvert_exporter": "python",
   "pygments_lexer": "ipython3",
   "version": "3.6.5"
  }
 },
 "nbformat": 4,
 "nbformat_minor": 2
}
